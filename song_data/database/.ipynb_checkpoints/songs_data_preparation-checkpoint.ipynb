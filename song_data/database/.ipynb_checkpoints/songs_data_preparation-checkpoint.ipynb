{
 "cells": [
  {
   "cell_type": "code",
   "execution_count": 8,
   "metadata": {},
   "outputs": [],
   "source": [
    "import sys\n",
    "import sqlite3\n",
    "import time\n",
    "\n",
    "import unicodedata\n",
    "\n",
    "# Assuming that you have the database (or a sample of it) in this folder\n",
    "db_file = 'Sample_Song_Dataset.db'\n",
    "\n",
    "def strip_accents(s):\n",
    "   return ''.join(c for c in unicodedata.normalize('NFD', s)\n",
    "                  if unicodedata.category(c) != 'Mn')"
   ]
  },
  {
   "cell_type": "code",
   "execution_count": 9,
   "metadata": {},
   "outputs": [],
   "source": [
    "with sqlite3.connect(db_file) as conn:\n",
    "    \n",
    "    # Choose 20 artists (arbitrarily, we can always change the number) based on artist id\n",
    "    # Note that it does not need to be ordered at all, this was just a way to get somewhat cleaner names \n",
    "    # Other specifications to consider: only taking nonzero years? \n",
    "    cursor = conn.cursor()\n",
    "    cursor.execute('SELECT DISTINCT artist_id, artist_name FROM artists ORDER BY artist_id DESC LIMIT 20')\n",
    "    \n",
    "    distinct_artists = cursor.fetchall()\n",
    "    all_data = []\n",
    "    \n",
    "    for artist in distinct_artists:\n",
    "        \n",
    "        artist_id = (artist[0],)\n",
    "        \n",
    "        # For each artist, get artist names, track titles, years, genres \n",
    "        cursor.execute('SELECT artist_name, title, year, term FROM artists INNER JOIN tracks ON artists.artist_id=tracks.artist_id INNER JOIN artist_term ON artists.artist_id=artist_term.artist_id WHERE artists.artist_id = ?', artist_id)\n",
    "        \n",
    "        # Return the first 20 tuples (arbitrarily, we can always change this)\n",
    "        all_data = all_data + cursor.fetchall()[:20]\n"
   ]
  },
  {
   "cell_type": "code",
   "execution_count": 10,
   "metadata": {},
   "outputs": [],
   "source": [
    "# Strip accents, replace spaces with _, remove apostrophes, lowercase\n",
    "# Not sure if removing accents/apostrophes is strictly necessary, but worth testing\n",
    "# Other things to consider removing: parentheses, question marks, etc. \n",
    "with open('songs_data.txt', 'w') as myfile:\n",
    "    for song in all_data:\n",
    "        \n",
    "        artist = strip_accents(song[0].replace(' ','_').replace(\"'\",\"\").lower())\n",
    "        track = strip_accents(song[1].replace(' ','_').replace(\"'\",\"\").lower())\n",
    "        year = song[2]\n",
    "        genre = song[3].replace(' ', '_')\n",
    "        myfile.write('by_artist_song\\ten.artist.{}\\ten.song.{}\\n'.format(artist,track))\n",
    "        myfile.write('song_year\\ten.song.{}\\t(date {} -1 -1)\\n'.format(track,year))\n",
    "        myfile.write('artist_genre\\ten.artist.{}\\ten.genre.{}\\n'.format(artist,genre))\n",
    "        "
   ]
  },
  {
   "cell_type": "code",
   "execution_count": null,
   "metadata": {},
   "outputs": [],
   "source": []
  }
 ],
 "metadata": {
  "kernelspec": {
   "display_name": "Python 3",
   "language": "python",
   "name": "python3"
  },
  "language_info": {
   "codemirror_mode": {
    "name": "ipython",
    "version": 3
   },
   "file_extension": ".py",
   "mimetype": "text/x-python",
   "name": "python",
   "nbconvert_exporter": "python",
   "pygments_lexer": "ipython3",
   "version": "3.7.2"
  }
 },
 "nbformat": 4,
 "nbformat_minor": 2
}
